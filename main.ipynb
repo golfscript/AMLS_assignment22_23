{
 "cells": [
  {
   "cell_type": "code",
   "execution_count": 1,
   "metadata": {},
   "outputs": [],
   "source": [
    "import numpy as np\n",
    "from os import path, environ\n",
    "from skimage import io\n",
    "from matplotlib import pyplot as plt\n",
    "from tqdm.notebook import tqdm\n",
    "import ipywidgets as widgets\n",
    "from sklearn.metrics import accuracy_score\n",
    "environ['TF_CPP_MIN_LOG_LEVEL'] = '1' # suppress TensorFlow info messages"
   ]
  },
  {
   "cell_type": "code",
   "execution_count": 2,
   "metadata": {},
   "outputs": [],
   "source": [
    "import A1.models as A1, A2.models as A2, B1.models as B1, B2.models as B2"
   ]
  },
  {
   "cell_type": "markdown",
   "metadata": {},
   "source": [
    "Function for loading data"
   ]
  },
  {
   "cell_type": "code",
   "execution_count": 3,
   "metadata": {},
   "outputs": [],
   "source": [
    "LABELS = 'labels.csv'\n",
    "DATASETS = 'Datasets'\n",
    "IMGS = 'img'\n",
    "TEST = '_test'\n",
    "\n",
    "def load_data(folder, feature_col, file_col, load_image, augment=False):\n",
    "    filenames, y = np.genfromtxt(\n",
    "        path.join(DATASETS,folder,LABELS),\n",
    "        usecols=(file_col,feature_col),\n",
    "        dtype='U10,i8',\n",
    "        unpack=True,\n",
    "        skip_header=1,\n",
    "        delimiter='\\t'\n",
    "    )\n",
    "    y = np.maximum(y,0) # convert -1 label to 0\n",
    "    imagedir = path.join(DATASETS,folder,IMGS)\n",
    "    n = len(filenames)\n",
    "    shape = load_image(path.join(imagedir,filenames[0])).shape # get first image to get shape\n",
    "    X = np.empty((n*2 if augment else n, *shape), dtype=np.uint8) # pre-define X, much more efficient than concatenating arrays\n",
    "    for i in tqdm(range(n), desc=folder): # tqdm displays a nice loading bar\n",
    "        X[i] = load_image(path.join(imagedir,filenames[i]))\n",
    "    if augment:\n",
    "        X[n:] = X[:n,:,::-1]  # copy images, but reverse left to right\n",
    "        y = np.tile(y,2) # duplicate labels\n",
    "    print(f'Loaded {X.nbytes:,} bytes')\n",
    "    return X, y\n"
   ]
  },
  {
   "cell_type": "markdown",
   "metadata": {},
   "source": [
    "Each task uses a different comibination of dataset, feature_col, file_col, and module:"
   ]
  },
  {
   "cell_type": "code",
   "execution_count": 4,
   "metadata": {},
   "outputs": [],
   "source": [
    "TASKS = {'A1':('celeba',2,1,A1), 'A2':('celeba',3,1,A2), 'B1':('cartoon_set',2,3,B1),'B2':('cartoon_set',1,3,B2)}\n",
    "task = widgets.Dropdown(options=TASKS, description='Task')"
   ]
  },
  {
   "cell_type": "code",
   "execution_count": 6,
   "metadata": {},
   "outputs": [
    {
     "data": {
      "application/vnd.jupyter.widget-view+json": {
       "model_id": "2f70ff041e0d41d1be8fadb4046d6baf",
       "version_major": 2,
       "version_minor": 0
      },
      "text/plain": [
       "Dropdown(description='Task', index=3, options={'A1': ('celeba', 2, 1, <module 'A1.models' from '/Users/marc/Pr…"
      ]
     },
     "metadata": {},
     "output_type": "display_data"
    }
   ],
   "source": [
    "task"
   ]
  },
  {
   "cell_type": "code",
   "execution_count": 7,
   "metadata": {},
   "outputs": [],
   "source": [
    "dataset, feature_col, file_col, models = task.value"
   ]
  },
  {
   "cell_type": "code",
   "execution_count": 8,
   "metadata": {},
   "outputs": [
    {
     "data": {
      "application/vnd.jupyter.widget-view+json": {
       "model_id": "058d299fb41f4de3aaf34edba6462fe4",
       "version_major": 2,
       "version_minor": 0
      },
      "text/plain": [
       "cartoon_set:   0%|          | 0/10000 [00:00<?, ?it/s]"
      ]
     },
     "metadata": {},
     "output_type": "display_data"
    },
    {
     "name": "stdout",
     "output_type": "stream",
     "text": [
      "Loaded 216,000,000 bytes\n"
     ]
    }
   ],
   "source": [
    "augment = task.label.startswith('A') # only augment 'A' tasks\n",
    "X, y = load_data(dataset, feature_col, file_col, models.load_image, augment=augment)"
   ]
  },
  {
   "cell_type": "code",
   "execution_count": 9,
   "metadata": {},
   "outputs": [
    {
     "data": {
      "image/png": "[encoded data removed]",
      "text/plain": [
       "<Figure size 864x432 with 5 Axes>"
      ]
     },
     "metadata": {
      "needs_background": "light"
     },
     "output_type": "display_data"
    }
   ],
   "source": [
    "plt.figure(figsize=(12,6))\n",
    "for i in range(5):\n",
    "    plt.subplot(1, 5, i+1)\n",
    "    plt.axis('off')\n",
    "    plt.title(f'[{i}] class:{y[i]}')\n",
    "    plt.imshow(X[i], cmap='gray')\n",
    "plt.show()"
   ]
  },
  {
   "cell_type": "code",
   "execution_count": 10,
   "metadata": {},
   "outputs": [],
   "source": [
    "opts = {**A1.options, **A2.options, **B1.options, **B2.options}\n",
    "selected = list(models.options.values())[0]\n",
    "options = widgets.Dropdown(options=opts, value=selected, description='Model', layout=widgets.Layout(width='50%'))"
   ]
  },
  {
   "cell_type": "code",
   "execution_count": 28,
   "metadata": {},
   "outputs": [
    {
     "data": {
      "application/vnd.jupyter.widget-view+json": {
       "model_id": "c9fd285c0c7e4680b49250c760e15735",
       "version_major": 2,
       "version_minor": 0
      },
      "text/plain": [
       "Dropdown(description='Model', index=5, layout=Layout(width='50%'), options={'Best A1: Clahe, PCA(120) & SVC Ha…"
      ]
     },
     "metadata": {},
     "output_type": "display_data"
    }
   ],
   "source": [
    "options"
   ]
  },
  {
   "cell_type": "code",
   "execution_count": 29,
   "metadata": {},
   "outputs": [],
   "source": [
    "model = options.value"
   ]
  },
  {
   "cell_type": "code",
   "execution_count": 13,
   "metadata": {},
   "outputs": [
    {
     "data": {
      "application/vnd.jupyter.widget-view+json": {
       "model_id": "d1f9b84311724dc1a0ea69dc98daf73d",
       "version_major": 2,
       "version_minor": 0
      },
      "text/plain": [
       "cartoon_set_test:   0%|          | 0/2500 [00:00<?, ?it/s]"
      ]
     },
     "metadata": {},
     "output_type": "display_data"
    },
    {
     "name": "stdout",
     "output_type": "stream",
     "text": [
      "Loaded 54,000,000 bytes\n"
     ]
    }
   ],
   "source": [
    "X_test, y_test = load_data(dataset+TEST, feature_col, file_col, models.load_image)"
   ]
  },
  {
   "cell_type": "code",
   "execution_count": 30,
   "metadata": {},
   "outputs": [
    {
     "name": "stdout",
     "output_type": "stream",
     "text": [
      "Performing Principle Component Analysis...\n"
     ]
    },
    {
     "data": {
      "image/png": "[encoded data removed]",
      "text/plain": [
       "<Figure size 432x288 with 1 Axes>"
      ]
     },
     "metadata": {
      "needs_background": "light"
     },
     "output_type": "display_data"
    },
    {
     "name": "stdout",
     "output_type": "stream",
     "text": [
      "Performing Support Vector Classification Fit...\n",
      "Accuracy on trained data: 86.16%\n"
     ]
    }
   ],
   "source": [
    "print(f\"Accuracy on trained data: {model.fit(X, y):.2%}\")"
   ]
  },
  {
   "cell_type": "code",
   "execution_count": 31,
   "metadata": {},
   "outputs": [],
   "source": [
    "y_pred = model.predict(X_test)"
   ]
  },
  {
   "cell_type": "code",
   "execution_count": 32,
   "metadata": {
    "scrolled": true
   },
   "outputs": [
    {
     "name": "stdout",
     "output_type": "stream",
     "text": [
      "Accuracy on test data: 84.28%\n"
     ]
    }
   ],
   "source": [
    "print(f\"Accuracy on test data: {accuracy_score(y_test,y_pred):.2%}\")"
   ]
  },
  {
   "cell_type": "code",
   "execution_count": null,
   "metadata": {},
   "outputs": [],
   "source": [
    "wrong, = np.nonzero(y_test!=y_pred)\n",
    "print(f'There were {len(wrong)} wrong predictions out of {len(y_test)}')\n",
    "for w,i in enumerate(wrong):\n",
    "    if w%5==0: plt.figure(figsize=(12,3))\n",
    "    plt.subplot(1, 5, w%5+1)\n",
    "    plt.axis('off')\n",
    "    plt.title(f'[{i}] class:{y_test[i]} pred:{y_pred[i]}')\n",
    "    plt.imshow(X_test[i], cmap='gray')\n",
    "    if w%5==4: plt.show()\n"
   ]
  },
  {
   "cell_type": "code",
   "execution_count": null,
   "metadata": {},
   "outputs": [],
   "source": []
  }
 ],
 "metadata": {
  "kernelspec": {
   "display_name": "Python 3 (ipykernel)",
   "language": "python",
   "name": "python3"
  },
  "language_info": {
   "codemirror_mode": {
    "name": "ipython",
    "version": 3
   },
   "file_extension": ".py",
   "mimetype": "text/x-python",
   "name": "python",
   "nbconvert_exporter": "python",
   "pygments_lexer": "ipython3",
   "version": "3.7.13"
  },
  "vscode": {
   "interpreter": {
    "hash": "aee8b7b246df8f9039afb4144a1f6fd8d2ca17a180786b69acc140d282b71a49"
   }
  }
 },
 "nbformat": 4,
 "nbformat_minor": 2
}
